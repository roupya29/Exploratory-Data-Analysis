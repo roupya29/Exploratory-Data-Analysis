{
 "cells": [
  {
   "cell_type": "code",
   "execution_count": null,
   "metadata": {},
   "outputs": [],
   "source": [
    "import pandas as pd \n",
    "import numpy as np \n",
    "import matplotlib.pyplot as plt\n",
    "df = pd.read_csv(\"AB_NYC_2019.csv\")\n",
    "import seaborn as sns "
   ]
  },
  {
   "cell_type": "code",
   "execution_count": null,
   "metadata": {},
   "outputs": [],
   "source": [
    "# Getting to know the data\n",
    "df.head()"
   ]
  },
  {
   "cell_type": "code",
   "execution_count": null,
   "metadata": {},
   "outputs": [],
   "source": [
    "# Understanding the data using statistics \n",
    "df.describe()"
   ]
  },
  {
   "cell_type": "code",
   "execution_count": null,
   "metadata": {},
   "outputs": [],
   "source": [
    "df.columns"
   ]
  },
  {
   "cell_type": "code",
   "execution_count": null,
   "metadata": {},
   "outputs": [],
   "source": [
    "df['neighbourhood_group'].unique()"
   ]
  },
  {
   "cell_type": "code",
   "execution_count": null,
   "metadata": {},
   "outputs": [],
   "source": [
    "df.drop(columns = {'name','id','host_name','last_review'},inplace=True)"
   ]
  },
  {
   "cell_type": "code",
   "execution_count": null,
   "metadata": {},
   "outputs": [],
   "source": [
    "df.head(10)"
   ]
  },
  {
   "cell_type": "code",
   "execution_count": null,
   "metadata": {},
   "outputs": [],
   "source": [
    "# Replacing NAN values with 0 for further analysis \n",
    "df.fillna({'reviews_per_month':0},inplace = True)"
   ]
  },
  {
   "cell_type": "code",
   "execution_count": null,
   "metadata": {},
   "outputs": [],
   "source": [
    "#Sorting the data by Area of New York and by neighbourhood \n",
    "df.sort_values(by = ['neighbourhood_group'], inplace = True)\n",
    "df.sort_values(by = ['neighbourhood'], inplace = True)"
   ]
  },
  {
   "cell_type": "code",
   "execution_count": null,
   "metadata": {},
   "outputs": [],
   "source": [
    "df.head()"
   ]
  },
  {
   "cell_type": "code",
   "execution_count": null,
   "metadata": {},
   "outputs": [],
   "source": [
    "types_of_rooms = sns.countplot(x=\"room_type\", order = df.room_type.value_counts().index, data=df)\n",
    "types_of_rooms.set(xlabel='Room Types', ylabel='', title='Number of Rooms by Type')"
   ]
  },
  {
   "cell_type": "code",
   "execution_count": null,
   "metadata": {},
   "outputs": [],
   "source": [
    "#Dividing the data into groups by area in New York i.e. Bronx, Manhattan etc\n",
    "nb = df.groupby(\"neighbourhood_group\")"
   ]
  },
  {
   "cell_type": "code",
   "execution_count": null,
   "metadata": {},
   "outputs": [],
   "source": [
    "# Separaing data by Area \n",
    "bronx = nb.get_group('Bronx')\n",
    "brooklyn = nb.get_group('Brooklyn')\n",
    "manhattan = nb.get_group('Manhattan')\n",
    "queens = nb.get_group('Queens')\n",
    "staten = nb.get_group('Staten Island')"
   ]
  },
  {
   "cell_type": "code",
   "execution_count": null,
   "metadata": {},
   "outputs": [],
   "source": [
    "bronx"
   ]
  },
  {
   "cell_type": "code",
   "execution_count": null,
   "metadata": {},
   "outputs": [],
   "source": [
    "# Plotting average price vs neighbourhood\n",
    "avg = []\n",
    "nbh = []\n",
    "for neighbourhood_group, data in nb: \n",
    "    x = nb['price'].get_group(neighbourhood_group).mean()\n",
    "    avg.append(x)\n",
    "    nbh.append(neighbourhood_group)\n",
    "\n",
    "plt.bar(nbh,avg,color ='blue')"
   ]
  },
  {
   "cell_type": "code",
   "execution_count": null,
   "metadata": {},
   "outputs": [],
   "source": [
    "avail = []\n",
    "area= []\n",
    "for neighbourhood_group, data in nb: \n",
    "    x = nb['availability_365'].get_group(neighbourhood_group).median()\n",
    "    avail.append(x)\n",
    "    area.append(neighbourhood_group)"
   ]
  },
  {
   "cell_type": "code",
   "execution_count": null,
   "metadata": {},
   "outputs": [],
   "source": [
    "plt.bar(area,avail)"
   ]
  },
  {
   "cell_type": "code",
   "execution_count": null,
   "metadata": {},
   "outputs": [],
   "source": [
    "sns.barplot(x = area, y = avail)"
   ]
  },
  {
   "cell_type": "code",
   "execution_count": null,
   "metadata": {},
   "outputs": [],
   "source": [
    "# Top 10 most expensive areas\n",
    "prc = []\n",
    "grp = []\n",
    "nbr = df.groupby(\"neighbourhood\")\n",
    "for neighbourhood, data in nbr: \n",
    "    x = nbr['price'].get_group(neighbourhood).median()\n",
    "    prc.append(x)\n",
    "    grp.append(neighbourhood)\n",
    "    \n",
    "prices = pd.DataFrame({\"Area\":grp, 'Mean_Price':prc})\n",
    "prices.sort_values(by=['Mean_Price'],ascending=False).head(10)"
   ]
  },
  {
   "cell_type": "code",
   "execution_count": null,
   "metadata": {},
   "outputs": [],
   "source": [
    "# Top 10 hosts \n",
    "df.columns"
   ]
  },
  {
   "cell_type": "code",
   "execution_count": null,
   "metadata": {},
   "outputs": [],
   "source": [
    "top_host = df.groupby(['host_name']).sum()\n",
    "top_host.sort_values(by = 'number_of_reviews', ascending = True)\n",
    "top_host.head(10)"
   ]
  },
  {
   "cell_type": "code",
   "execution_count": null,
   "metadata": {},
   "outputs": [],
   "source": [
    "plt.figure(figsize=(10,6))\n",
    "sns.scatterplot(df.longitude,df.latitude,hue=df.neighbourhood_group)"
   ]
  },
  {
   "cell_type": "code",
   "execution_count": null,
   "metadata": {},
   "outputs": [],
   "source": [
    "!pip install folium"
   ]
  },
  {
   "cell_type": "code",
   "execution_count": null,
   "metadata": {},
   "outputs": [],
   "source": [
    "import folium\n",
    "import folium.plugins\n",
    "map = folium.Map([40.7128,-74.0060],zoom_start=11)\n",
    "folium.plugins.HeatMap(df[['latitude','longitude']].dropna(),\n",
    "                       radius=8, gradient={0.2:'blue',0.4:'purple',0.6:'orange',1.0:'red'}).add_to(map)\n",
    "display(map)"
   ]
  }
 ],
 "metadata": {
  "kernelspec": {
   "display_name": "Python 3",
   "language": "python",
   "name": "python3"
  },
  "language_info": {
   "codemirror_mode": {
    "name": "ipython",
    "version": 3
   },
   "file_extension": ".py",
   "mimetype": "text/x-python",
   "name": "python",
   "nbconvert_exporter": "python",
   "pygments_lexer": "ipython3",
   "version": "3.7.3"
  }
 },
 "nbformat": 4,
 "nbformat_minor": 2
}
